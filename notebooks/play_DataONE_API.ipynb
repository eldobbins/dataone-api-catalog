{
 "cells": [
  {
   "cell_type": "code",
   "execution_count": null,
   "metadata": {},
   "outputs": [],
   "source": [
    "# preliminary test to try and make a connection\n",
    "\n",
    "import requests\n",
    "import lxml.etree as etree\n",
    "\n",
    "\n",
    "# original from https://releases.dataone.org/online/api-documentation-v2.0/apis/MN_APIs.html\n",
    "# export NODE=\"https://demo2.test.dataone.org/knb/d1/mn\"\n",
    "# curl -k -v \"$NODE/v1/monitor/ping\"\n",
    "#  -k proceed if connection cannot be verified\n",
    "#  -v verbose\n",
    "\n",
    "# try to go after https://search.dataone.org/view/10.24431/rw1k1b\n",
    "# Seth Danielson, Kris Holderied, Molly McCammon, and Katrina Hoffman. \n",
    "# CTD profile time series data from the GAK1 project, 2012-2016, \n",
    "# Gulf Watch Alaska Environmental Drivers Component. Research Workspace. 10.24431/rw1k1b.\n",
    "# download button says:\n",
    "#   https://dataone.researchworkspace.com/mn/v2/packages/application%2Fbagit-097/ba358d8c-43ec-4919-a11a-5c7518ffd0c4\n",
    "# https://doi.org/10.24431/rw1k1b\n",
    "\n",
    "url = 'https://dataone.researchworkspace.com/mn/v2/'\n",
    "task = 'monitor/ping'\n",
    "\n",
    "resp = requests.get(url+task)\n",
    "if resp.status_code != 200:\n",
    "    # This means something went wrong.\n",
    "    #raise requests.HTTPError('GET /tasks/ {}'.format(resp.status_code))\n",
    "    print('did not work')\n"
   ]
  },
  {
   "cell_type": "code",
   "execution_count": null,
   "metadata": {},
   "outputs": [],
   "source": [
    "# now try and get more information\n",
    "\n",
    "task = 'node'\n",
    "resp = requests.get(url+task)\n",
    "resp\n",
    "\n",
    "task = 'object/ba358d8c-43ec-4919-a11a-5c7518ffd0c4'\n",
    "resp = requests.get(url+task)\n",
    "resp.content\n",
    "\n",
    "x = etree.fromstring(resp.content )\n",
    "\n",
    "print(etree.tostring(x, pretty_print=True, encoding = \"unicode\"))\n",
    "\n",
    "\n",
    "# ouch. that's the object and not very human readable.\n",
    "# RDF = Resource Description Framework - intimate with URIs\n",
    "# this one is probably Data Catalog Vocabulary (DCAT) which uses a whole bunch of \n",
    "# preexisting vocabularies includng Dublin Core (purl, dcterms) and Friend Of A Friend \n",
    "# (foaf).  I think the x:y identifies the vocabulary and the term.\n",
    "\n",
    "# task = 'object/10.24431%2Frw1k1b'\n",
    "\n"
   ]
  },
  {
   "cell_type": "code",
   "execution_count": null,
   "metadata": {
    "scrolled": true
   },
   "outputs": [],
   "source": [
    "# views?\n",
    "\n",
    "# task = 'views/title/ba358d8c-43ec-4919-a11a-5c7518ffd0c4'\n",
    "task = 'node'\n",
    "\n",
    "\n",
    "resp = requests.get(url+task)\n",
    "x = etree.fromstring(resp.content )\n",
    "\n",
    "print(etree.tostring(x, pretty_print=True, encoding = \"unicode\"))\n",
    "\n",
    "# So the Axiom member node doesn't have all the API bits - like they don't have views\n"
   ]
  },
  {
   "cell_type": "code",
   "execution_count": null,
   "metadata": {},
   "outputs": [],
   "source": [
    "# but some of the goobly-gook returned in the object info does include a URL for \n",
    "\n",
    "# this gets actual data (tab delimited?)\n",
    "# resp = requests.get('https://cn.dataone.org/cn/v1/resolve/e24107a7-8905-4f55-8c75-8b0831e47a83')\n",
    "# resp.content\n",
    "\n",
    "# this gets info on the project\n",
    "resp = requests.get('https://cn.dataone.org/cn/v1/resolve/10.24431%2Frw1k1b')\n",
    "x = etree.fromstring(resp.content )\n",
    "\n",
    "print(etree.tostring(x, pretty_print=True, encoding = \"unicode\"))\n",
    "\n",
    "# Schemas from the Resource site for ISO/TC 211 Geographic information/Geomatics\n",
    "#  but they give a lot of 404, so not up-to-date\n",
    "# This site lists them all \n",
    "# https://geo-ide.noaa.gov/wiki/index.php?title=ISO_Namespaces#Namespace_Descriptions\n",
    "# It's ISO 19115 !"
   ]
  },
  {
   "cell_type": "code",
   "execution_count": null,
   "metadata": {},
   "outputs": [],
   "source": [
    "resp = requests.get('https://cn.dataone.org/cn/v2/views/')\n",
    "x = etree.fromstring(resp.content )\n",
    "print(etree.tostring(x, pretty_print=True, encoding = \"unicode\"))\n",
    "\n",
    "resp = requests.get(\"https://cn.dataone.org/cn/v2/views/'default'/10.24431%2Frw1k1b\")\n",
    "# x = etree.fromstring(resp.content )\n",
    "# print(etree.tostring(x, pretty_print=True, encoding = \"unicode\"))\n",
    "resp.content\n"
   ]
  },
  {
   "cell_type": "code",
   "execution_count": null,
   "metadata": {},
   "outputs": [],
   "source": [
    "# what are all the datasets available from the Axiom member node\n",
    "task = 'object/'\n",
    "resp = requests.get(url+task)\n",
    "resp.content\n",
    "\n",
    "x = etree.fromstring(resp.content )\n",
    "\n",
    "print(etree.tostring(x, pretty_print=True, encoding = \"unicode\"))\n",
    "\n"
   ]
  },
  {
   "cell_type": "code",
   "execution_count": null,
   "metadata": {},
   "outputs": [],
   "source": [
    "# what queries can I do?\n",
    "task = 'query/'\n",
    "resp = requests.get(url+task)\n",
    "x = etree.fromstring(resp.content )\n",
    "print(etree.tostring(x, pretty_print=True, encoding = \"unicode\"))\n",
    "# Oh, that's right.  Axiom member node doesn't have all API - doesn't have query\n",
    "\n",
    "resp = requests.get('https://cn.dataone.org/cn/v2/query/')\n",
    "x = etree.fromstring(resp.content )\n",
    "print(etree.tostring(x, pretty_print=True, encoding = \"unicode\"))\n",
    "\n",
    "# solr = Solr is a standalone enterprise search server with a REST-like API (Apache)\n",
    "# logsolr = DataONE usage logging\n"
   ]
  },
  {
   "cell_type": "code",
   "execution_count": null,
   "metadata": {},
   "outputs": [],
   "source": [
    "# what is it actually doing?  Use logging to find out\n",
    "sabotage\n",
    "\n",
    "import logging\n",
    "\n",
    "# Enabling debugging at http.client level (requests->urllib3->http.client)\n",
    "# you will see the REQUEST, including HEADERS and DATA, and RESPONSE with HEADERS but without DATA.\n",
    "# the only thing missing will be the response.body which is not logged.\n",
    "try: # for Python 3\n",
    "    from http.client import HTTPConnection\n",
    "except ImportError:\n",
    "    from httplib import HTTPConnection\n",
    "HTTPConnection.debuglevel = 1\n",
    "\n",
    "logging.basicConfig() # you need to initialize logging, otherwise you will not see anything from requests\n",
    "logging.getLogger().setLevel(logging.DEBUG)\n",
    "requests_log = logging.getLogger(\"urllib3\")\n",
    "requests_log.setLevel(logging.DEBUG)\n",
    "requests_log.propagate = True\n",
    "\n",
    "resp = requests.get(url+task)\n",
    "resp"
   ]
  },
  {
   "cell_type": "code",
   "execution_count": null,
   "metadata": {},
   "outputs": [],
   "source": []
  }
 ],
 "metadata": {
  "kernelspec": {
   "display_name": "Python 3",
   "language": "python",
   "name": "python3"
  },
  "language_info": {
   "codemirror_mode": {
    "name": "ipython",
    "version": 3
   },
   "file_extension": ".py",
   "mimetype": "text/x-python",
   "name": "python",
   "nbconvert_exporter": "python",
   "pygments_lexer": "ipython3",
   "version": "3.7.1"
  }
 },
 "nbformat": 4,
 "nbformat_minor": 2
}
