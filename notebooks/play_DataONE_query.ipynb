{
 "cells": [
  {
   "cell_type": "code",
   "execution_count": null,
   "metadata": {},
   "outputs": [],
   "source": [
    "# preliminary testing of DataONE API query\n",
    "\n",
    "import requests\n",
    "import lxml.etree as etree\n",
    "\n",
    "# this gets info on the project\n",
    "resp = requests.get('https://cn.dataone.org/cn/v1/resolve/10.24431%2Frw1k1b')\n",
    "x = etree.fromstring(resp.content )\n",
    "print(etree.tostring(x, pretty_print=True, encoding = \"unicode\"))\n"
   ]
  },
  {
   "cell_type": "code",
   "execution_count": null,
   "metadata": {},
   "outputs": [],
   "source": [
    "# This one I got in an e-mail from BCO-DMO\n",
    "\n",
    "# orig url_cce = 'https://cn.dataone.org/cn/v2/query/solr/?fl=id,title,resourceMap&q=id:*metadata/*knb-lter-cce*%20AND%20-obsoletedBy&sort=id%20asc&rows=50&start=0'\n",
    "url_cce = 'https://cn.dataone.org/cn/v2/query/solr/?q=id:*metadata/*knb-lter-cce*%20AND%20-obsoletedBy&sort=id%20asc&rows=1&start=0'\n",
    "\n",
    "resp = requests.get(url_cce)\n",
    "resp.content\n",
    "\n",
    "parser = etree.XMLParser(remove_blank_text=True)\n",
    "#tree = etree.parse(filename, parser)\n",
    "x = etree.fromstring(resp.content, parser )\n",
    "print(etree.tostring(x, pretty_print=True, encoding = \"unicode\"))\n",
    "\n"
   ]
  },
  {
   "cell_type": "code",
   "execution_count": null,
   "metadata": {
    "scrolled": true
   },
   "outputs": [],
   "source": [
    "# url_gulfwatch = 'https://cn.dataone.org/cn/v2/query/solr/?fl=id,title,resourceMap&q=title:*GAK1*&sort=id%20asc&rows=6&start=0'\n",
    "# not url_gulfwatch = 'https://cn.dataone.org/cn/v2/query/solr/?fl=id,title,resourceMap&q=title:*Gulf Watch Alaska Environmental Drivers*&sort=id%20asc&rows=6&start=0'\n",
    "url_gulfwatch = ('https://cn.dataone.org/cn/v2/query/solr/?fl=id,title,resourceMap,formatType'\n",
    "                 '&q=title:Gulf%20Watch%20AND%20authorSurName:Hopcroft'\n",
    "                 '&sort=id%20asc&rows=60&start=0')\n",
    "\n",
    "resp = requests.get(url_gulfwatch)\n",
    "resp.content\n",
    "\n",
    "parser = etree.XMLParser(remove_blank_text=True)\n",
    "#tree = etree.parse(filename, parser)\n",
    "x = etree.fromstring(resp.content, parser )\n",
    "print(etree.tostring(x, pretty_print=True, encoding = \"unicode\"))\n",
    "\n"
   ]
  },
  {
   "cell_type": "code",
   "execution_count": null,
   "metadata": {},
   "outputs": [],
   "source": []
  }
 ],
 "metadata": {
  "kernelspec": {
   "display_name": "Python 3",
   "language": "python",
   "name": "python3"
  },
  "language_info": {
   "codemirror_mode": {
    "name": "ipython",
    "version": 3
   },
   "file_extension": ".py",
   "mimetype": "text/x-python",
   "name": "python",
   "nbconvert_exporter": "python",
   "pygments_lexer": "ipython3",
   "version": "3.7.1"
  }
 },
 "nbformat": 4,
 "nbformat_minor": 2
}
