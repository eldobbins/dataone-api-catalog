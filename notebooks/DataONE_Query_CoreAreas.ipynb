{
 "cells": [
  {
   "cell_type": "markdown",
   "metadata": {},
   "source": [
    "# Seaching for keyword tags\n",
    "\n",
    "Exploring how to use a menu to query the keyword tags returned by the DataONE API. \n",
    "To perform the query, run each cell till you get to the bottom and then choose an LTER Core Area from the dropdown menu and hit the \"Search\" button.\n",
    "\n",
    "ELD\n",
    "\n",
    "7/13/2020"
   ]
  },
  {
   "cell_type": "code",
   "execution_count": 1,
   "metadata": {},
   "outputs": [],
   "source": [
    "import requests\n",
    "import ipywidgets as widgets\n",
    "\n",
    "# xml is a standard python library \n",
    "import xml.etree.ElementTree as ET\n",
    "# lxml extends it with some things that make parsing and printing nicer\n",
    "import lxml.etree as etree"
   ]
  },
  {
   "cell_type": "code",
   "execution_count": 2,
   "metadata": {
    "scrolled": true
   },
   "outputs": [],
   "source": [
    "# Run the query and transform the response into XML that can be navigated\n",
    "# Possible member node interactions are described in\n",
    "# https://releases.dataone.org/online/api-documentation-v2.0.1/apis/MN_APIs.html#module-MNQuery\n",
    "# Fields for the searches are described in \n",
    "# https://releases.dataone.org/online/api-documentation-v2.0.1/design/SearchMetadata.html?highlight=field#querying-the-solr-index\n",
    "\n",
    "url_nga = ('https://cn.dataone.org/cn/v2/query/solr/?fl=title,keywords,id'\n",
    "                 '&q=keywords:NGA%20LTER'\n",
    "                 '&sort=id%20asc&rows=60&start=0')\n",
    "resp = requests.get(url_nga)\n",
    "resp.content\n",
    "\n",
    "# Transform response to an element tree\n",
    "parser = etree.XMLParser(remove_blank_text=True)\n",
    "root = ET.fromstring(resp.content, parser)\n"
   ]
  },
  {
   "cell_type": "code",
   "execution_count": 3,
   "metadata": {},
   "outputs": [
    {
     "name": "stdout",
     "output_type": "stream",
     "text": [
      "\"Gulf of Alaska ROMS-COBALT Hindcast Simulation 1980 - 2013\"\n",
      "\"Ocean currents measured by R/V Sikuliaq's Shipboard Acoustic Doppler Current Profiler (SADCP) during the Northern Gulf of Alaska LTER Spring 2018 cruise\"\n",
      "\"Particle abundance and volume size distributions from an Underwater Vision Profiler 5 aboard seasonal cruises for the Northern Gulf of Alaska LTER site 2018\"\n",
      "\"Marine bird survey observation and density data from Northern Gulf of Alaska LTER cruises, 2018\"\n",
      "\n",
      "4 matching records\n"
     ]
    }
   ],
   "source": [
    "# Define functions that will look for a keyword in the DataONE response. includes a little test.\n",
    "\n",
    "keyword = 'marine'\n",
    "\n",
    "def compare_words(word1, word2):\n",
    "    \"\"\" indentify matches with a little flexibility regarding capitolization and substrings \"\"\"\n",
    "    match = False\n",
    "    if word1.lower() in word2.lower() or word2.lower() in word1.lower():\n",
    "        match = True\n",
    "    return match\n",
    "\n",
    "def print_matches(tag, root):\n",
    "    \"\"\" print the titles of records that have matching keywords \"\"\"\n",
    "    matches = 0\n",
    "    for doc in root.iter(\"doc\"):\n",
    "        keywords = []\n",
    "        for child in doc:\n",
    "            if \"name\" in child.keys() and child.attrib[\"name\"] == \"title\":\n",
    "                title = child.text\n",
    "            if \"name\" in child.keys() and child.attrib[\"name\"] == \"keywords\":\n",
    "                for keyword in child:\n",
    "                    keywords.append(keyword.text)\n",
    "        if any(compare_words(tag,word) for word in keywords):\n",
    "            matches +=1\n",
    "            print(f'\"{title}\"')\n",
    "            \n",
    "    return matches\n",
    "\n",
    "n = print_matches(keyword, root)\n",
    "print(f'\\n{n} matching records')"
   ]
  },
  {
   "cell_type": "code",
   "execution_count": 4,
   "metadata": {
    "scrolled": true
   },
   "outputs": [],
   "source": [
    "# Use the widgets to interactively choose the LTER Core Area to ask about.\n",
    " \n",
    "def on_button_clicked(b):\n",
    "    with output:\n",
    "        print(f'Searching for {menu.value}')\n",
    "        n = print_matches(menu.value, root)\n",
    "        print(f'\\n{n} matching records\\n\\n')\n",
    "\n",
    "\n",
    "def on_clear_clicked(b):\n",
    "    with output:\n",
    "        output.clear_output()\n",
    "\n",
    "output = widgets.Output()\n",
    "button = widgets.Button(description=\"Seach Now\")\n",
    "button.on_click(on_button_clicked)\n",
    "clear_button = widgets.Button(description=\"Clear\")\n",
    "clear_button.on_click(on_clear_clicked)\n",
    "menu = widgets.Dropdown(options=['Disturbance Pattern', \n",
    "                                 'Primary Production', \n",
    "                                 'Movement of Inorganic Matter',\n",
    "                                 'Movement of Organic Matter',\n",
    "                                 'Population Studies'],\n",
    "                        value='Disturbance Pattern',\n",
    "                        description='LTER Core Area:',\n",
    "                        disabled=False)\n"
   ]
  },
  {
   "cell_type": "code",
   "execution_count": 5,
   "metadata": {},
   "outputs": [
    {
     "data": {
      "application/vnd.jupyter.widget-view+json": {
       "model_id": "b76eb539600947179f2085165d130780",
       "version_major": 2,
       "version_minor": 0
      },
      "text/plain": [
       "Dropdown(description='LTER Core Area:', options=('Disturbance Pattern', 'Primary Production', 'Movement of Ino…"
      ]
     },
     "metadata": {},
     "output_type": "display_data"
    },
    {
     "data": {
      "application/vnd.jupyter.widget-view+json": {
       "model_id": "daf27aae8ac5418abc7d797a0e3b3678",
       "version_major": 2,
       "version_minor": 0
      },
      "text/plain": [
       "Button(description='Seach Now', style=ButtonStyle())"
      ]
     },
     "metadata": {},
     "output_type": "display_data"
    },
    {
     "data": {
      "application/vnd.jupyter.widget-view+json": {
       "model_id": "5ac5edf26f2f4d1ea8f97e0159e53e4a",
       "version_major": 2,
       "version_minor": 0
      },
      "text/plain": [
       "Output()"
      ]
     },
     "metadata": {},
     "output_type": "display_data"
    },
    {
     "data": {
      "application/vnd.jupyter.widget-view+json": {
       "model_id": "0882dc596a9f4ea99e4e2623f2c39861",
       "version_major": 2,
       "version_minor": 0
      },
      "text/plain": [
       "Button(description='Clear', style=ButtonStyle())"
      ]
     },
     "metadata": {},
     "output_type": "display_data"
    }
   ],
   "source": [
    "# Run it\n",
    "              \n",
    "display(menu)\n",
    "display(button, output)\n",
    "display(clear_button)\n"
   ]
  }
 ],
 "metadata": {
  "kernelspec": {
   "display_name": "Python 3",
   "language": "python",
   "name": "python3"
  },
  "language_info": {
   "codemirror_mode": {
    "name": "ipython",
    "version": 3
   },
   "file_extension": ".py",
   "mimetype": "text/x-python",
   "name": "python",
   "nbconvert_exporter": "python",
   "pygments_lexer": "ipython3",
   "version": "3.7.6"
  }
 },
 "nbformat": 4,
 "nbformat_minor": 2
}